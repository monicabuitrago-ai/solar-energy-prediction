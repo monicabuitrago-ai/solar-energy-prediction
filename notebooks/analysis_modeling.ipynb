{
 "cells": [
  {
   "cell_type": "markdown",
   "id": "4090e4a3",
   "metadata": {},
   "source": [
    "# ☀️ Solar Energy Production – France (RTE Dataset)\n",
    "\n",
    "This notebook analyzes real hourly data on solar energy production in France.  \n",
    "It uses meteorological and temporal variables derived from the timestamp to explore production patterns and build a predictive model.\n"
   ]
  },
  {
   "cell_type": "code",
   "execution_count": null,
   "id": "5bb8891e",
   "metadata": {},
   "outputs": [],
   "source": [
    "import pandas as pd\n",
    "import numpy as np\n",
    "import matplotlib.pyplot as plt\n",
    "import seaborn as sns\n",
    "\n",
    "from sklearn.ensemble import RandomForestRegressor\n",
    "from sklearn.metrics import mean_absolute_error, mean_squared_error\n",
    "from sklearn.model_selection import train_test_split\n",
    "\n",
    "# Ajustes de visualización\n",
    "sns.set(style=\"whitegrid\")\n",
    "plt.rcParams[\"figure.figsize\"] = (12, 6)\n"
   ]
  },
  {
   "cell_type": "code",
   "execution_count": null,
   "id": "0bf0162d",
   "metadata": {},
   "outputs": [],
   "source": [
    "# Cargar dataset preprocesado\n",
    "df = pd.read_csv(\"france_solar_hourly_clean.csv\", parse_dates=[\"datetime\"])\n",
    "df.head()\n"
   ]
  },
  {
   "cell_type": "code",
   "execution_count": null,
   "id": "c0cd3198",
   "metadata": {},
   "outputs": [],
   "source": [
    "# Estadísticas básicas\n",
    "df.describe()\n",
    "\n",
    "# Comprobar valores nulos\n",
    "print(df.isnull().sum())\n"
   ]
  },
  {
   "cell_type": "code",
   "execution_count": null,
   "id": "890e6efe",
   "metadata": {},
   "outputs": [],
   "source": [
    "# Producción solar por hora del día (promedio)\n",
    "df.groupby(\"hour\")[\"prod_solaire_MWh\"].mean().plot(kind=\"bar\", title=\"Average Solar Production by Hour\")\n",
    "plt.ylabel(\"MWh\")\n",
    "plt.xlabel(\"Hour of Day\")\n",
    "plt.show()\n"
   ]
  },
  {
   "cell_type": "code",
   "execution_count": null,
   "id": "fa552d0e",
   "metadata": {},
   "outputs": [],
   "source": [
    "# Variables predictoras\n",
    "X = df[[\"hour\", \"day\", \"month\"]]\n",
    "y = df[\"prod_solaire_MWh\"]\n",
    "\n",
    "# Dividir en entrenamiento y prueba\n",
    "X_train, X_test, y_train, y_test = train_test_split(X, y, test_size=0.2, random_state=42)\n"
   ]
  },
  {
   "cell_type": "code",
   "execution_count": null,
   "id": "f837bfc8",
   "metadata": {},
   "outputs": [],
   "source": [
    "# Modelo: Random Forest\n",
    "model = RandomForestRegressor(n_estimators=100, random_state=42)\n",
    "model.fit(X_train, y_train)\n",
    "\n",
    "# Predicción\n",
    "y_pred = model.predict(X_test)\n"
   ]
  },
  {
   "cell_type": "code",
   "execution_count": null,
   "id": "66ece3a2",
   "metadata": {},
   "outputs": [],
   "source": [
    "# Métricas de evaluación\n",
    "mae = mean_absolute_error(y_test, y_pred)\n",
    "rmse = mean_squared_error(y_test, y_pred, squared=False)\n",
    "\n",
    "print(f\"MAE: {mae:.2f} MWh\")\n",
    "print(f\"RMSE: {rmse:.2f} MWh\")\n"
   ]
  }
 ],
 "metadata": {},
 "nbformat": 4,
 "nbformat_minor": 5
}